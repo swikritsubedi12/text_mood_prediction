{
 "cells": [
  {
   "cell_type": "code",
   "execution_count": 20,
   "metadata": {},
   "outputs": [
    {
     "name": "stderr",
     "output_type": "stream",
     "text": [
      "[nltk_data] Downloading package stopwords to C:\\Users\\hp\n",
      "[nltk_data]     victus\\AppData\\Roaming\\nltk_data...\n",
      "[nltk_data]   Package stopwords is already up-to-date!\n"
     ]
    },
    {
     "data": {
      "text/plain": [
       "True"
      ]
     },
     "execution_count": 20,
     "metadata": {},
     "output_type": "execute_result"
    }
   ],
   "source": [
    "import numpy as np\n",
    "import pandas as pd\n",
    "import re,string\n",
    "import matplotlib.pyplot as plt\n",
    "from nltk.corpus import stopwords\n",
    "from nltk.stem import PorterStemmer\n",
    "from sklearn.feature_extraction.text import TfidfVectorizer\n",
    "from sklearn.pipeline import Pipeline\n",
    "from sklearn.metrics import classification_report, confusion_matrix\n",
    "from sklearn.model_selection import train_test_split\n",
    "from sklearn.feature_selection import SelectKBest, chi2\n",
    "import pickle\n",
    "import nltk\n",
    "nltk.download('stopwords')"
   ]
  },
  {
   "cell_type": "code",
   "execution_count": 21,
   "metadata": {},
   "outputs": [
    {
     "name": "stdout",
     "output_type": "stream",
     "text": [
      "        Unnamed: 0                                               text  label\n",
      "36130        36130  id say maybe made them feel foolish but that w...      0\n",
      "138065      138065  i joined the lds church i admit to feeling som...      0\n",
      "146440      146440  i must admit i didnt feel like hugging him not...      3\n",
      "103337      103337  i hate that i can still feel if any nerve is d...      0\n",
      "315528      315528                  im actually feeling a little smug      1\n",
      "<class 'pandas.core.frame.DataFrame'>\n",
      "Index: 416809 entries, 36130 to 121958\n",
      "Data columns (total 3 columns):\n",
      " #   Column      Non-Null Count   Dtype \n",
      "---  ------      --------------   ----- \n",
      " 0   Unnamed: 0  416809 non-null  int64 \n",
      " 1   text        416809 non-null  object\n",
      " 2   label       416809 non-null  int64 \n",
      "dtypes: int64(2), object(1)\n",
      "memory usage: 12.7+ MB\n",
      "None\n"
     ]
    }
   ],
   "source": [
    "df=pd.read_csv('text.csv')\n",
    "df=df.sample(frac=1,random_state=42)\n",
    "print(df.head())\n",
    "print(df.info())"
   ]
  },
  {
   "cell_type": "code",
   "execution_count": 22,
   "metadata": {},
   "outputs": [],
   "source": [
    "#dropping unnecessary column\n",
    "df=df.drop(columns=['Unnamed: 0'])"
   ]
  },
  {
   "cell_type": "code",
   "execution_count": 24,
   "metadata": {},
   "outputs": [
    {
     "name": "stdout",
     "output_type": "stream",
     "text": [
      "                                                     text  label\n",
      "36130   id say mayb made feel foolish would reeeeeeall...      0\n",
      "138065  join ld church admit feel somewhat asham famil...      0\n",
      "146440  must admit didnt feel like hug angri disgust d...      3\n",
      "103337  hate still feel nerv damag badli enough often ...      0\n",
      "315528                          im actual feel littl smug      1\n"
     ]
    }
   ],
   "source": [
    "#cleaning text using function\n",
    "stop_words=set(stopwords.words('english'))\n",
    "stemmer=PorterStemmer()\n",
    "def clean_text(text):\n",
    "    text=text.lower()\n",
    "    text=re.sub(r\"[^\\w\\s]\",\"\",text)\n",
    "    text=\" \".join(stemmer.stem(word)for word in text.split() if word not in stop_words)\n",
    "    return text\n",
    "\n",
    "df['text']=df['text'].apply(clean_text)\n",
    "\n",
    "print(df.head())"
   ]
  },
  {
   "cell_type": "code",
   "execution_count": 25,
   "metadata": {},
   "outputs": [
    {
     "name": "stderr",
     "output_type": "stream",
     "text": [
      "c:\\Users\\hp victus\\AppData\\Local\\Programs\\Python\\Python313\\Lib\\site-packages\\sklearn\\linear_model\\_logistic.py:465: ConvergenceWarning: lbfgs failed to converge (status=1):\n",
      "STOP: TOTAL NO. OF ITERATIONS REACHED LIMIT.\n",
      "\n",
      "Increase the number of iterations (max_iter) or scale the data as shown in:\n",
      "    https://scikit-learn.org/stable/modules/preprocessing.html\n",
      "Please also refer to the documentation for alternative solver options:\n",
      "    https://scikit-learn.org/stable/modules/linear_model.html#logistic-regression\n",
      "  n_iter_i = _check_optimize_result(\n"
     ]
    }
   ],
   "source": [
    "#Training model\n",
    "from sklearn.linear_model import LogisticRegression\n",
    "log_regression=LogisticRegression()\n",
    "\n",
    "vectorizer=TfidfVectorizer()\n",
    "X=df['text']\n",
    "Y=df['label']\n",
    "\n",
    "X_train,X_test,Y_train,Y_test=train_test_split(X,Y,test_size=0.15)\n",
    "\n",
    "#creating pipeline\n",
    "pipeline=Pipeline([('Vect',vectorizer),\n",
    "                   ('chi',SelectKBest(chi2,k=2000)),\n",
    "                   ('clf',LogisticRegression())])\n",
    "\n",
    "#Training model\n",
    "model=pipeline.fit(X_train,Y_train)\n",
    "\n",
    "#Creating pickle file\n",
    "with open('LogisticRegression2.pickle', 'wb') as f:\n",
    "    pickle.dump(model, f)"
   ]
  },
  {
   "cell_type": "code",
   "execution_count": 26,
   "metadata": {},
   "outputs": [
    {
     "name": "stdout",
     "output_type": "stream",
     "text": [
      "Accuracy of log_regression: 88.11\n"
     ]
    }
   ],
   "source": [
    "#Test accuracy of logistic regression\n",
    "from sklearn.metrics import accuracy_score\n",
    "Y_test_pred=model.predict(X_test)\n",
    "accuracy=accuracy_score(Y_test,Y_test_pred)\n",
    "print(f'Accuracy of log_regression: {accuracy*100:.2f}')"
   ]
  },
  {
   "cell_type": "code",
   "execution_count": 27,
   "metadata": {},
   "outputs": [
    {
     "name": "stdout",
     "output_type": "stream",
     "text": [
      "Accuracy of log_regression: 88.40\n"
     ]
    }
   ],
   "source": [
    "#train accuracy of logistic regression\n",
    "Y_test_pred=model.predict(X_train)\n",
    "accuracy=accuracy_score(Y_train,Y_test_pred)\n",
    "print(f'Accuracy of log_regression: {accuracy*100:.2f}')"
   ]
  }
 ],
 "metadata": {
  "kernelspec": {
   "display_name": "Python 3",
   "language": "python",
   "name": "python3"
  },
  "language_info": {
   "codemirror_mode": {
    "name": "ipython",
    "version": 3
   },
   "file_extension": ".py",
   "mimetype": "text/x-python",
   "name": "python",
   "nbconvert_exporter": "python",
   "pygments_lexer": "ipython3",
   "version": "3.13.1"
  }
 },
 "nbformat": 4,
 "nbformat_minor": 2
}
